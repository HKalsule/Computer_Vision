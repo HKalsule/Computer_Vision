{
  "nbformat": 4,
  "nbformat_minor": 0,
  "metadata": {
    "colab": {
      "provenance": []
    },
    "kernelspec": {
      "name": "python3",
      "display_name": "Python 3"
    },
    "language_info": {
      "name": "python"
    }
  },
  "cells": [
    {
      "cell_type": "code",
      "execution_count": 1,
      "metadata": {
        "colab": {
          "base_uri": "https://localhost:8080/",
          "height": 245
        },
        "id": "AzzRQzJ9DjCb",
        "outputId": "061e10ac-831a-4c97-dd67-dabe41caf7f9"
      },
      "outputs": [
        {
          "output_type": "error",
          "ename": "error",
          "evalue": "OpenCV(4.12.0) /io/opencv/modules/highgui/src/window.cpp:1284: error: (-2:Unspecified error) The function is not implemented. Rebuild the library with Windows, GTK+ 2.x or Cocoa support. If you are on Ubuntu or Debian, install libgtk2.0-dev and pkg-config, then re-run cmake or configure script in function 'cvNamedWindow'\n",
          "traceback": [
            "\u001b[0;31m---------------------------------------------------------------------------\u001b[0m",
            "\u001b[0;31merror\u001b[0m                                     Traceback (most recent call last)",
            "\u001b[0;32m/tmp/ipython-input-1-2069365552.py\u001b[0m in \u001b[0;36m<cell line: 0>\u001b[0;34m()\u001b[0m\n\u001b[1;32m     14\u001b[0m \u001b[0;34m\u001b[0m\u001b[0m\n\u001b[1;32m     15\u001b[0m \u001b[0;31m# Create a window for trackbars\u001b[0m\u001b[0;34m\u001b[0m\u001b[0;34m\u001b[0m\u001b[0m\n\u001b[0;32m---> 16\u001b[0;31m \u001b[0mcv2\u001b[0m\u001b[0;34m.\u001b[0m\u001b[0mnamedWindow\u001b[0m\u001b[0;34m(\u001b[0m\u001b[0;34m\"Hough Circle Detection\"\u001b[0m\u001b[0;34m)\u001b[0m\u001b[0;34m\u001b[0m\u001b[0;34m\u001b[0m\u001b[0m\n\u001b[0m\u001b[1;32m     17\u001b[0m \u001b[0;34m\u001b[0m\u001b[0m\n\u001b[1;32m     18\u001b[0m \u001b[0;31m# Trackbar callback (empty, as we only use getTrackbarPos)\u001b[0m\u001b[0;34m\u001b[0m\u001b[0;34m\u001b[0m\u001b[0m\n",
            "\u001b[0;31merror\u001b[0m: OpenCV(4.12.0) /io/opencv/modules/highgui/src/window.cpp:1284: error: (-2:Unspecified error) The function is not implemented. Rebuild the library with Windows, GTK+ 2.x or Cocoa support. If you are on Ubuntu or Debian, install libgtk2.0-dev and pkg-config, then re-run cmake or configure script in function 'cvNamedWindow'\n"
          ]
        }
      ],
      "source": [
        "import cv2\n",
        "import numpy as np\n",
        "\n",
        "# STEP 1: Load the input image\n",
        "IMAGE_PATH = \"coins.png\"\n",
        "orig = cv2.imread(IMAGE_PATH)\n",
        "\n",
        "if orig is None:\n",
        "    raise FileNotFoundError(f\"Cannot open image at {IMAGE_PATH}\")\n",
        "\n",
        "# STEP 2: Convert to grayscale and apply Gaussian Blur\n",
        "gray = cv2.cvtColor(orig, cv2.COLOR_BGR2GRAY)\n",
        "blurred = cv2.GaussianBlur(gray, (9, 9), sigmaX=2, sigmaY=2)\n",
        "\n",
        "# Create a window for trackbars\n",
        "cv2.namedWindow(\"Hough Circle Detection\")\n",
        "\n",
        "# Trackbar callback (empty, as we only use getTrackbarPos)\n",
        "def nothing(x):\n",
        "    pass\n",
        "\n",
        "# Create trackbars\n",
        "cv2.createTrackbar(\"param1\", \"Hough Circle Detection\", 100, 500, nothing)\n",
        "cv2.createTrackbar(\"param2\", \"Hough Circle Detection\", 30, 100, nothing)\n",
        "cv2.createTrackbar(\"minRadius\", \"Hough Circle Detection\", 10, 100, nothing)\n",
        "cv2.createTrackbar(\"maxRadius\", \"Hough Circle Detection\", 80, 200, nothing)\n",
        "\n",
        "while True:\n",
        "    # Read trackbar values\n",
        "    param1 = cv2.getTrackbarPos(\"param1\", \"Hough Circle Detection\")\n",
        "    param2 = cv2.getTrackbarPos(\"param2\", \"Hough Circle Detection\")\n",
        "    minRadius = cv2.getTrackbarPos(\"minRadius\", \"Hough Circle Detection\")\n",
        "    maxRadius = cv2.getTrackbarPos(\"maxRadius\", \"Hough Circle Detection\")\n",
        "\n",
        "    # Clone original image for drawing\n",
        "    output = orig.copy()\n",
        "\n",
        "    # STEP 6: Apply Hough Circle Transform\n",
        "    circles = cv2.HoughCircles(\n",
        "        blurred,\n",
        "        method=cv2.HOUGH_GRADIENT,\n",
        "        dp=1.2,\n",
        "        minDist=maxRadius * 0.8,\n",
        "        param1=param1,\n",
        "        param2=param2,\n",
        "        minRadius=minRadius,\n",
        "        maxRadius=maxRadius\n",
        "    )\n",
        "\n",
        "    # Draw circles\n",
        "    if circles is not None:\n",
        "        circles = np.uint16(np.around(circles[0]))\n",
        "        for (x, y, r) in circles:\n",
        "            cv2.circle(output, (x, y), r, (0, 255, 0), 2)\n",
        "            cv2.circle(output, (x, y), 2, (0, 0, 255), 3)\n",
        "        print(f\"Total Circles Detected: {len(circles)}\")\n",
        "    else:\n",
        "        print(\"No circles detected.\")\n",
        "\n",
        "    # Show images\n",
        "    cv2.imshow(\"Original\", orig)\n",
        "    cv2.imshow(\"Detected Circles\", output)\n",
        "\n",
        "    # Break loop on pressing 'Esc'\n",
        "    key = cv2.waitKey(100)\n",
        "    if key == 27:\n",
        "        break\n",
        "\n",
        "# Cleanup\n",
        "cv2.destroyAllWindows()\n",
        "cv2.imwrite(\"output_detected_circles.png\", output)"
      ]
    }
  ]
}